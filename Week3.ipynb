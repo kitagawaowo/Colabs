{
  "nbformat": 4,
  "nbformat_minor": 0,
  "metadata": {
    "colab": {
      "provenance": [],
      "authorship_tag": "ABX9TyO6VgIHaAxRvNo8F9VtgpaL",
      "include_colab_link": true
    },
    "kernelspec": {
      "name": "python3",
      "display_name": "Python 3"
    },
    "language_info": {
      "name": "python"
    }
  },
  "cells": [
    {
      "cell_type": "markdown",
      "metadata": {
        "id": "view-in-github",
        "colab_type": "text"
      },
      "source": [
        "<a href=\"https://colab.research.google.com/github/kitagawaowo/Colabs/blob/main/Week3.ipynb\" target=\"_parent\"><img src=\"https://colab.research.google.com/assets/colab-badge.svg\" alt=\"Open In Colab\"/></a>"
      ]
    },
    {
      "cell_type": "code",
      "execution_count": 59,
      "metadata": {
        "colab": {
          "base_uri": "https://localhost:8080/"
        },
        "cellView": "form",
        "id": "vdcPTxw-GB5r",
        "outputId": "3349dec6-6d54-4024-e059-d940a41a5200"
      },
      "outputs": [
        {
          "output_type": "stream",
          "name": "stdout",
          "text": [
            "Solución:\n",
            "-Q--\n",
            "---Q\n",
            "Q---\n",
            "--Q-\n"
          ]
        }
      ],
      "source": [
        "#@title GPT Reinas\n",
        "def es_factible(tablero, fila, columna, n):\n",
        "    # Verifica si la reina puede ser colocada en la posición dada\n",
        "    # sin conflictos con las demás reinas\n",
        "    for i in range(fila):\n",
        "        if tablero[i] == columna or \\\n",
        "           tablero[i] - i == columna - fila or \\\n",
        "           tablero[i] + i == columna + fila:\n",
        "            return False\n",
        "    return True\n",
        "\n",
        "def n_reinas(tablero, fila, n):\n",
        "    # Caso base: todas las reinas han sido colocadas\n",
        "    if fila == n:\n",
        "        return True\n",
        "\n",
        "    # Coloca la reina en la fila actual, columna por columna\n",
        "    for columna in range(n):\n",
        "        if es_factible(tablero, fila, columna, n):\n",
        "            tablero[fila] = columna\n",
        "            # Llamada recursiva para colocar la siguiente reina\n",
        "            if n_reinas(tablero, fila+1, n):\n",
        "                return True\n",
        "    # Si no se encuentra solución, se retrocede y se prueba otra posición\n",
        "    return False\n",
        "\n",
        "# Función principal para resolver el problema de las n reinas\n",
        "def resolver_n_reinas(n):\n",
        "    tablero = [-1] * n\n",
        "    if not n_reinas(tablero, 0, n):\n",
        "        print(\"No se encontró solución.\")\n",
        "    else:\n",
        "        print(\"Solución:\")\n",
        "        for i in range(n):\n",
        "            fila = [\"-\"] * n\n",
        "            fila[tablero[i]] = \"Q\"\n",
        "            print(\"\".join(fila))\n",
        "\n",
        "resolver_n_reinas(4)"
      ]
    },
    {
      "cell_type": "code",
      "source": [
        "#@title GPT Binaria\n",
        "def busqueda_binaria(arr, inicio, fin, x):\n",
        "    # Caso base: si el inicio es mayor que el final, el elemento no está en el arreglo\n",
        "    if inicio > fin:\n",
        "        return -1\n",
        "\n",
        "    # Encuentra el punto medio del arreglo\n",
        "    medio = (inicio + fin) // 2\n",
        "\n",
        "    # Si el elemento está en la mitad del arreglo, devuelve el índice\n",
        "    if arr[medio] == x:\n",
        "        return medio\n",
        "\n",
        "    # Si el elemento es menor que el elemento en la mitad del arreglo,\n",
        "    # busca en la mitad izquierda\n",
        "    elif arr[medio] > x:\n",
        "        return busqueda_binaria(arr, inicio, medio-1, x)\n",
        "\n",
        "    # Si el elemento es mayor que el elemento en la mitad del arreglo,\n",
        "    # busca en la mitad derecha\n",
        "    else:\n",
        "        return busqueda_binaria(arr, medio+1, fin, x)\n",
        "\n",
        "# Función principal para realizar la búsqueda binaria en un arreglo dado\n",
        "def busqueda(arr, x):\n",
        "    return busqueda_binaria(arr, 0, len(arr)-1, x)\n"
      ],
      "metadata": {
        "cellView": "form",
        "id": "LuBLF12SIzA4"
      },
      "execution_count": 60,
      "outputs": []
    },
    {
      "cell_type": "code",
      "source": [
        "#@title Funcion maximo y minimo\n",
        "import random as r\n",
        "\n",
        "def mayor(a, b):\n",
        "    return a if a > b else b\n",
        "\n",
        "def menor(a, b):\n",
        "    return a if a < b else b\n",
        "\n",
        "def divAndVenc(a, i, j, func):\n",
        "    if i == j:\n",
        "        return a[i]\n",
        "    else:\n",
        "        med = (i + j) // 2\n",
        "        maxi = divAndVenc(a, i, med, func)\n",
        "        maxd = divAndVenc(a, med + 1, j, func)\n",
        "\n",
        "        return func(maxi, maxd)\n",
        "    \n",
        "arr = [r.randint(100, 500) for _ in range(20)]\n",
        "\n",
        "\n",
        "print(arr)\n",
        "print(divAndVenc(arr, 0, len(arr) - 1, mayor))\n",
        "print(divAndVenc(arr, 0, len(arr) - 1, menor))\n",
        "\n",
        "arr.sort()\n",
        "print(arr)\n"
      ],
      "metadata": {
        "colab": {
          "base_uri": "https://localhost:8080/"
        },
        "cellView": "form",
        "id": "_JPKpH5QM8T0",
        "outputId": "54b26b58-e737-434f-a3de-772a1b2a760b"
      },
      "execution_count": 61,
      "outputs": [
        {
          "output_type": "stream",
          "name": "stdout",
          "text": [
            "[444, 167, 495, 355, 174, 388, 327, 474, 162, 269, 160, 291, 232, 276, 168, 467, 202, 312, 404, 159]\n",
            "495\n",
            "159\n",
            "[159, 160, 162, 167, 168, 174, 202, 232, 269, 276, 291, 312, 327, 355, 388, 404, 444, 467, 474, 495]\n"
          ]
        }
      ]
    },
    {
      "cell_type": "code",
      "source": [
        "#@title Multiplicar usando divide y venceras\n",
        "def multiplicar(a, b, n):\n",
        "    if n == 1:\n",
        "        return a * b\n",
        "    else:\n",
        "        a_str = str(a)\n",
        "        b_str = str(b)\n",
        "        n2 = n // 2\n",
        "        ai = int(a_str[:-n2]) or 0\n",
        "        ad = int(a_str[-n2:]) or 0\n",
        "        bi = int(b_str[:-n2]) or 0\n",
        "        bd = int(b_str[-n2:]) or 0\n",
        "        z1 = multiplicar(ai, bi, n2) * 10**n\n",
        "        z2 = (multiplicar(ai, bd, n2) + multiplicar(ad, bi, n2)) * 10**(n2) or 0\n",
        "        z3 = multiplicar(ad, bd, n2) or 0\n",
        "        return z1 + z2 + z3\n",
        "\n",
        "a = 1234\n",
        "b = 3127\n",
        "n = max(len(str(a)), len(str(b)))\n",
        "\n",
        "resultado = multiplicar(a, b, n)\n",
        "\n",
        "print(resultado)\n",
        "print(a * b)"
      ],
      "metadata": {
        "colab": {
          "base_uri": "https://localhost:8080/"
        },
        "cellView": "form",
        "id": "U4rph2KQTVCX",
        "outputId": "1179a922-2c96-4444-a09b-6ccf73e04e90"
      },
      "execution_count": 62,
      "outputs": [
        {
          "output_type": "stream",
          "name": "stdout",
          "text": [
            "3858718\n",
            "3858718\n"
          ]
        }
      ]
    },
    {
      "cell_type": "code",
      "source": [
        "#@title GPT Karatsuba\n",
        "def karatsuba(a, b):\n",
        "    # Convertir los números a string para contar los dígitos\n",
        "    a_str = str(a)\n",
        "    b_str = str(b)\n",
        "    \n",
        "    # Determinar la cantidad de dígitos\n",
        "    n = max(len(a_str), len(b_str))\n",
        "    \n",
        "    # Caso base para la recursión\n",
        "    if n == 1:\n",
        "        return a * b\n",
        "    \n",
        "    # Dividir los números en dos partes iguales\n",
        "    n2 = n // 2\n",
        "    a1 = int(a_str[:-n2] or '0')\n",
        "    a0 = int(a_str[-n2:] or '0')\n",
        "    b1 = int(b_str[:-n2] or '0')\n",
        "    b0 = int(b_str[-n2:] or '0')\n",
        "    \n",
        "    # Calcular las tres multiplicaciones recursivamente\n",
        "    ac = karatsuba(a1, b1)\n",
        "    bd = karatsuba(a0, b0)\n",
        "    adbc = karatsuba(a1 + a0, b1 + b0) - ac - bd\n",
        "    \n",
        "    # Calcular el resultado final\n",
        "    return (10 ** (2 * n2)) * ac + (10 ** n2) * adbc + bd\n",
        "\n",
        "# Ejemplo de uso\n",
        "a = 123456789\n",
        "b = 987654321\n",
        "a = 11\n",
        "b = 5\n",
        "resultado = karatsuba(a, b)\n",
        "print(resultado) # Salida: 12193263113702179569\n"
      ],
      "metadata": {
        "colab": {
          "base_uri": "https://localhost:8080/"
        },
        "cellView": "form",
        "id": "f0nEfR8-ZaFq",
        "outputId": "5a73f9ad-aeef-4540-d3e7-e47fc996717b"
      },
      "execution_count": 63,
      "outputs": [
        {
          "output_type": "stream",
          "name": "stdout",
          "text": [
            "55\n"
          ]
        }
      ]
    },
    {
      "cell_type": "markdown",
      "source": [
        "### V o F la llamada recursiva utilizando la tecnica recursiva de divide o venceras pertenece al paso de combinar -> F"
      ],
      "metadata": {
        "id": "NoGI-AKUmR6U"
      }
    },
    {
      "cell_type": "code",
      "source": [
        "#@title Multiplicación de matrices\n",
        "import numpy as np\n",
        "def matrix_multiplication(matrix1, matrix2):\n",
        "    \"\"\"\n",
        "    Multiplicación de matrices utilizando divide y vencerás.\n",
        "    \"\"\"\n",
        "    n = len(matrix1)\n",
        "    if n == 1:\n",
        "        return np.array([[matrix1[0][0] * matrix2[0][0]]])\n",
        "    else:\n",
        "        # Dividir las matrices en 4 partes iguales\n",
        "        a11, a12, a21, a22 = partition(matrix1)\n",
        "        b11, b12, b21, b22 = partition(matrix2)\n",
        "        \n",
        "        # Realizar los cálculos de manera recursiva\n",
        "        p1 = matrix_multiplication(a11, b11) + matrix_multiplication(a12, b21)\n",
        "        p2 = matrix_multiplication(a11, b12) + matrix_multiplication(a12, b22)\n",
        "        p3 = matrix_multiplication(a21, b11) + matrix_multiplication(a22, b21)\n",
        "        p4 = matrix_multiplication(a21, b12) + matrix_multiplication(a22, b22)\n",
        "        \n",
        "        # Unir las cuatro partes en una única matriz\n",
        "        result = np.zeros((n, n))\n",
        "        result[:n//2, :n//2] = p1\n",
        "        result[:n//2, n//2:] = p2\n",
        "        result[n//2:, :n//2] = p3\n",
        "        result[n//2:, n//2:] = p4\n",
        "        \n",
        "        return result\n",
        "        \n",
        "def partition(matrix):\n",
        "    \"\"\"\n",
        "    Particiona una matriz en 4 partes iguales.\n",
        "    \"\"\"\n",
        "    n = len(matrix)\n",
        "    if n % 2 == 0:\n",
        "        half = n//2\n",
        "        a11 = matrix[:half, :half]\n",
        "        a12 = matrix[:half, half:]\n",
        "        a21 = matrix[half:, :half]\n",
        "        a22 = matrix[half:, half:]\n",
        "        return a11, a12, a21, a22\n",
        "    else:\n",
        "        raise ValueError(\"La matriz debe tener dimensiones pares\")\n",
        "        \n",
        "# Ejemplo de uso\n",
        "#a = np.array([[1, 2, 4, 5], [3, 4, 3, 1], [3, 4, 1, 7], [3, 4, 5, 8]])\n",
        "#b = np.array([[5, 6, 7, 9], [7, 8, 9, 10], [3, 4, 9, 1], [3, 4, 4, 6]])\n",
        "#A = np.array([[1, 2], [3, 4]])\n",
        "#B = np.array([[5, 6], [7, 8]])\n",
        "\n",
        "A = np.random.randint(10, size=(4, 4))\n",
        "B = np.random.randint(10, size=(4, 4))\n",
        "\n",
        "print(matrix_multiplication(A, B))\n",
        "\n",
        "C = np.dot(A, B)\n",
        "print()\n",
        "print(C)\n"
      ],
      "metadata": {
        "colab": {
          "base_uri": "https://localhost:8080/"
        },
        "id": "RKqSaH4tkmqz",
        "outputId": "ce48e51b-8f5f-4886-b8f2-56bd5eeac9f3"
      },
      "execution_count": 68,
      "outputs": [
        {
          "output_type": "stream",
          "name": "stdout",
          "text": [
            "[[27. 42. 36. 49.]\n",
            " [29. 86. 91. 32.]\n",
            " [44. 97. 93. 29.]\n",
            " [34. 72. 80. 54.]]\n",
            "\n",
            "[[27 42 36 49]\n",
            " [29 86 91 32]\n",
            " [44 97 93 29]\n",
            " [34 72 80 54]]\n"
          ]
        }
      ]
    },
    {
      "cell_type": "code",
      "source": [
        "# Multiplicar a y c.  El resultado guardarlo en c.  Los parametros i y j parten de 0.  Los parametros ii y jj inician con la logitud de la matriz a - 1\n",
        "def matmul(a, b, c, i, ii, j, jj):\n",
        "  if i == ii:\n",
        "    temp = 0\n",
        "    for k in range(len(a)):\n",
        "      temp += a[i][k] * b[k][j]\n",
        "    c[i][j] = temp\n",
        "  else:\n",
        "    # (1) Dividir en subproblemas\n",
        "    imid = (i + ii) // 2\n",
        "    jmid = (j + jj) // 2\n",
        "    # (2) Conquistar significa las llamadas recursivas\n",
        "    matmul(a, b, c,        i, imid,        j, jmid)\n",
        "    matmul(a, b, c, imid + 1,   ii,        j, jmid)\n",
        "    matmul(a, b, c,        i, imid, jmid + 1, jj)\n",
        "    matmul(a, b, c, imid + 1,   ii, jmid + 1, jj)"
      ],
      "metadata": {
        "id": "2kx1CTB8Wj1Q"
      },
      "execution_count": 85,
      "outputs": []
    },
    {
      "cell_type": "code",
      "source": [
        "# Creamos dos vectores con numeros aleatorios (entre 0 y 10)\n",
        "# el vector a con 3 filas y 4 columnas\n",
        "# el vector b con 4 filas y 2 columnas\n",
        "a = np.random.randint(10, size=(4, 4))\n",
        "b = np.random.randint(10, size=(4, 4))\n"
      ],
      "metadata": {
        "id": "aJDCirhjVr0a"
      },
      "execution_count": 83,
      "outputs": []
    },
    {
      "cell_type": "code",
      "source": [
        "#Obtenemos en la matriz c la multiplicacion de las matrices a y b\n",
        "#Para que usamos assert? shorturl.at/fgKV9\n",
        "\n",
        "c = np.zeros((4, 4))\n",
        "matmul(a, b, c, 0, len(a) - 1, 0, len(b) - 1)\n",
        "assert (c == np.matmul(a, b)).all()\n",
        "print(c)"
      ],
      "metadata": {
        "colab": {
          "base_uri": "https://localhost:8080/"
        },
        "id": "hgMgwc-hiyFm",
        "outputId": "456fb028-f0a6-433d-9dbc-3bf4a950c359"
      },
      "execution_count": 84,
      "outputs": [
        {
          "output_type": "stream",
          "name": "stdout",
          "text": [
            "[[139. 103. 134. 121.]\n",
            " [159. 114. 162.  87.]\n",
            " [115.  82. 111.  83.]\n",
            " [118. 112. 111. 110.]]\n"
          ]
        }
      ]
    }
  ]
}