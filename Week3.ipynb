{
  "nbformat": 4,
  "nbformat_minor": 0,
  "metadata": {
    "colab": {
      "provenance": [],
      "authorship_tag": "ABX9TyMEck4dtXiLMlqkYy1kZwK0",
      "include_colab_link": true
    },
    "kernelspec": {
      "name": "python3",
      "display_name": "Python 3"
    },
    "language_info": {
      "name": "python"
    }
  },
  "cells": [
    {
      "cell_type": "markdown",
      "metadata": {
        "id": "view-in-github",
        "colab_type": "text"
      },
      "source": [
        "<a href=\"https://colab.research.google.com/github/kitagawaowo/Colabs/blob/main/Week3.ipynb\" target=\"_parent\"><img src=\"https://colab.research.google.com/assets/colab-badge.svg\" alt=\"Open In Colab\"/></a>"
      ]
    },
    {
      "cell_type": "code",
      "execution_count": null,
      "metadata": {
        "cellView": "form",
        "id": "vdcPTxw-GB5r"
      },
      "outputs": [],
      "source": [
        "#@title GPT Reinas\n",
        "def es_factible(tablero, fila, columna, n):\n",
        "    # Verifica si la reina puede ser colocada en la posición dada\n",
        "    # sin conflictos con las demás reinas\n",
        "    for i in range(fila):\n",
        "        if tablero[i] == columna or \\\n",
        "           tablero[i] - i == columna - fila or \\\n",
        "           tablero[i] + i == columna + fila:\n",
        "            return False\n",
        "    return True\n",
        "\n",
        "def n_reinas(tablero, fila, n):\n",
        "    # Caso base: todas las reinas han sido colocadas\n",
        "    if fila == n:\n",
        "        return True\n",
        "\n",
        "    # Coloca la reina en la fila actual, columna por columna\n",
        "    for columna in range(n):\n",
        "        if es_factible(tablero, fila, columna, n):\n",
        "            tablero[fila] = columna\n",
        "            # Llamada recursiva para colocar la siguiente reina\n",
        "            if n_reinas(tablero, fila+1, n):\n",
        "                return True\n",
        "    # Si no se encuentra solución, se retrocede y se prueba otra posición\n",
        "    return False\n",
        "\n",
        "# Función principal para resolver el problema de las n reinas\n",
        "def resolver_n_reinas(n):\n",
        "    tablero = [-1] * n\n",
        "    if not n_reinas(tablero, 0, n):\n",
        "        print(\"No se encontró solución.\")\n",
        "    else:\n",
        "        print(\"Solución:\")\n",
        "        for i in range(n):\n",
        "            fila = [\"-\"] * n\n",
        "            fila[tablero[i]] = \"Q\"\n",
        "            print(\"\".join(fila))\n",
        "\n",
        "resolver_n_reinas(4)"
      ]
    },
    {
      "cell_type": "code",
      "source": [
        "#@title GPT Binaria\n",
        "def busqueda_binaria(arr, inicio, fin, x):\n",
        "    # Caso base: si el inicio es mayor que el final, el elemento no está en el arreglo\n",
        "    if inicio > fin:\n",
        "        return -1\n",
        "\n",
        "    # Encuentra el punto medio del arreglo\n",
        "    medio = (inicio + fin) // 2\n",
        "\n",
        "    # Si el elemento está en la mitad del arreglo, devuelve el índice\n",
        "    if arr[medio] == x:\n",
        "        return medio\n",
        "\n",
        "    # Si el elemento es menor que el elemento en la mitad del arreglo,\n",
        "    # busca en la mitad izquierda\n",
        "    elif arr[medio] > x:\n",
        "        return busqueda_binaria(arr, inicio, medio-1, x)\n",
        "\n",
        "    # Si el elemento es mayor que el elemento en la mitad del arreglo,\n",
        "    # busca en la mitad derecha\n",
        "    else:\n",
        "        return busqueda_binaria(arr, medio+1, fin, x)\n",
        "\n",
        "# Función principal para realizar la búsqueda binaria en un arreglo dado\n",
        "def busqueda(arr, x):\n",
        "    return busqueda_binaria(arr, 0, len(arr)-1, x)\n"
      ],
      "metadata": {
        "cellView": "form",
        "id": "LuBLF12SIzA4"
      },
      "execution_count": 3,
      "outputs": []
    },
    {
      "cell_type": "code",
      "source": [
        "#@title Funcion maximo y minimo\n",
        "import random as r\n",
        "\n",
        "def mayor(a, b):\n",
        "    return a if a > b else b\n",
        "\n",
        "def menor(a, b):\n",
        "    return a if a < b else b\n",
        "\n",
        "def divAndVenc(a, i, j, func):\n",
        "    if i == j:\n",
        "        return a[i]\n",
        "    else:\n",
        "        med = (i + j) // 2\n",
        "        maxi = divAndVenc(a, i, med, func)\n",
        "        maxd = divAndVenc(a, med + 1, j, func)\n",
        "\n",
        "        return func(maxi, maxd)\n",
        "    \n",
        "arr = [r.randint(100, 500) for _ in range(20)]\n",
        "\n",
        "\n",
        "print(arr)\n",
        "print(divAndVenc(arr, 0, len(arr) - 1, mayor))\n",
        "print(divAndVenc(arr, 0, len(arr) - 1, menor))\n",
        "\n",
        "arr.sort()\n",
        "print(arr)\n"
      ],
      "metadata": {
        "cellView": "form",
        "id": "_JPKpH5QM8T0"
      },
      "execution_count": null,
      "outputs": []
    },
    {
      "cell_type": "code",
      "source": [
        "import math\n",
        "def multiplicar(a, b, n):\n",
        "    if n == 1:\n",
        "        return a * b\n",
        "    else:\n",
        "        z1 = multiplicar(a, b, n // 2) * 10**n\n",
        "        z2 = (multiplicar(a, b, n // 2) + multiplicar(a, b, n // 2)) * 10**(n // 2)\n",
        "        z3 = multiplicar(a, b, n // 2)\n",
        "        return z1 + z2 + z3\n",
        "\n",
        "a = 1234\n",
        "b = 5678\n",
        "n = max(len(str(a)), len(str(b)))\n",
        "\n",
        "resultado = multiplicar(a, b, n)\n",
        "\n",
        "print(resultado) # Salida: 7006652\n",
        "print(1234 * 5678)"
      ],
      "metadata": {
        "colab": {
          "base_uri": "https://localhost:8080/"
        },
        "id": "U4rph2KQTVCX",
        "outputId": "17549da6-1bcc-40d7-8986-fdc09f948070"
      },
      "execution_count": 31,
      "outputs": [
        {
          "output_type": "stream",
          "name": "stdout",
          "text": [
            "8648457703292\n",
            "7006652\n"
          ]
        }
      ]
    },
    {
      "cell_type": "code",
      "source": [
        "#@title GPT Karatsuba\n",
        "def karatsuba(a, b):\n",
        "    # Convertir los números a string para contar los dígitos\n",
        "    a_str = str(a)\n",
        "    b_str = str(b)\n",
        "    \n",
        "    # Determinar la cantidad de dígitos\n",
        "    n = max(len(a_str), len(b_str))\n",
        "    \n",
        "    # Caso base para la recursión\n",
        "    if n == 1:\n",
        "        return a * b\n",
        "    \n",
        "    # Dividir los números en dos partes iguales\n",
        "    n2 = n // 2\n",
        "    a1 = int(a_str[:-n2] or '0')\n",
        "    a0 = int(a_str[-n2:] or '0')\n",
        "    b1 = int(b_str[:-n2] or '0')\n",
        "    b0 = int(b_str[-n2:] or '0')\n",
        "    \n",
        "    # Calcular las tres multiplicaciones recursivamente\n",
        "    ac = karatsuba(a1, b1)\n",
        "    bd = karatsuba(a0, b0)\n",
        "    adbc = karatsuba(a1 + a0, b1 + b0) - ac - bd\n",
        "    \n",
        "    # Calcular el resultado final\n",
        "    return (10 ** (2 * n2)) * ac + (10 ** n2) * adbc + bd\n",
        "\n",
        "# Ejemplo de uso\n",
        "a = 123456789\n",
        "b = 987654321\n",
        "a = 11\n",
        "b = 5\n",
        "resultado = karatsuba(a, b)\n",
        "print(resultado) # Salida: 12193263113702179569\n"
      ],
      "metadata": {
        "colab": {
          "base_uri": "https://localhost:8080/"
        },
        "id": "f0nEfR8-ZaFq",
        "outputId": "02aa9b12-8161-4512-af6e-c5608ca84700"
      },
      "execution_count": 33,
      "outputs": [
        {
          "output_type": "stream",
          "name": "stdout",
          "text": [
            "55\n"
          ]
        }
      ]
    }
  ]
}